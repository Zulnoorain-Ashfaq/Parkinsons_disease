{
 "cells": [
  {
   "cell_type": "code",
   "execution_count": 125,
   "outputs": [],
   "source": [
    "import pandas as pd\n",
    "from imblearn.over_sampling import SMOTE\n",
    "import warnings\n",
    "warnings.filterwarnings('ignore')"
   ],
   "metadata": {
    "collapsed": false,
    "pycharm": {
     "name": "#%%\n"
    }
   }
  },
  {
   "cell_type": "code",
   "execution_count": 126,
   "outputs": [
    {
     "data": {
      "text/plain": "     gender      PPE      DFA     RPDE  numPulses  numPeriodsPulses  \\\n0         1  0.85247  0.71826  0.57227        240               239   \n1         1  0.76686  0.69481  0.53966        234               233   \n2         1  0.85083  0.67604  0.58982        232               231   \n3         0  0.41121  0.79672  0.59257        178               177   \n4         0  0.32790  0.79782  0.53028        236               235   \n..      ...      ...      ...      ...        ...               ...   \n751       0  0.80903  0.56355  0.28385        417               416   \n752       0  0.16084  0.56499  0.59194        415               413   \n753       0  0.88389  0.72335  0.46815        381               380   \n754       0  0.83782  0.74890  0.49823        340               339   \n755       0  0.81304  0.76471  0.46374        340               339   \n\n     meanPeriodPulses  stdDevPeriodPulses  locPctJitter  locAbsJitter  ...  \\\n0            0.008064            0.000087       0.00218      0.000018  ...   \n1            0.008258            0.000073       0.00195      0.000016  ...   \n2            0.008340            0.000060       0.00176      0.000015  ...   \n3            0.010858            0.000183       0.00419      0.000046  ...   \n4            0.008162            0.002669       0.00535      0.000044  ...   \n..                ...                 ...           ...           ...  ...   \n751          0.004627            0.000052       0.00064      0.000003  ...   \n752          0.004550            0.000220       0.00143      0.000006  ...   \n753          0.005069            0.000103       0.00076      0.000004  ...   \n754          0.005679            0.000055       0.00092      0.000005  ...   \n755          0.005676            0.000037       0.00078      0.000004  ...   \n\n     tqwt_kurtosisValue_dec_28  tqwt_kurtosisValue_dec_29  \\\n0                       1.5620                     2.6445   \n1                       1.5589                     3.6107   \n2                       1.5643                     2.3308   \n3                       3.7805                     3.5664   \n4                       6.1727                     5.8416   \n..                         ...                        ...   \n751                     3.0706                     3.0190   \n752                     1.9704                     1.7451   \n753                    51.5607                    44.4641   \n754                    19.1607                    12.8312   \n755                    62.9927                    21.8152   \n\n     tqwt_kurtosisValue_dec_30  tqwt_kurtosisValue_dec_31  \\\n0                       3.8686                     4.2105   \n1                      23.5155                    14.1962   \n2                       9.4959                    10.7458   \n3                       5.2558                    14.0403   \n4                       6.0805                     5.7621   \n..                         ...                        ...   \n751                     3.1212                     2.4921   \n752                     1.8277                     2.4976   \n753                    26.1586                     6.3076   \n754                     8.9434                     2.2044   \n755                     9.2457                     4.8555   \n\n     tqwt_kurtosisValue_dec_32  tqwt_kurtosisValue_dec_33  \\\n0                       5.1221                     4.4625   \n1                      11.0261                     9.5082   \n2                      11.0177                     4.8066   \n3                       4.2235                     4.6857   \n4                       7.7817                    11.6891   \n..                         ...                        ...   \n751                     3.5844                     3.5400   \n752                     5.2981                     4.2616   \n753                     2.8601                     2.5361   \n754                     1.9496                     1.9664   \n755                     3.0551                     3.0415   \n\n     tqwt_kurtosisValue_dec_34  tqwt_kurtosisValue_dec_35  \\\n0                       2.6202                     3.0004   \n1                       6.5245                     6.3431   \n2                       2.9199                     3.1495   \n3                       4.8460                     6.2650   \n4                       8.2103                     5.0559   \n..                         ...                        ...   \n751                     3.3805                     3.2003   \n752                     6.3042                    10.9058   \n753                     3.5377                     3.3545   \n754                     2.6801                     2.8332   \n755                     4.0116                     2.6217   \n\n     tqwt_kurtosisValue_dec_36  class  \n0                      18.9405      1  \n1                      45.1780      1  \n2                       4.7666      1  \n3                       4.0603      1  \n4                       6.1164      1  \n..                         ...    ...  \n751                     6.8671      0  \n752                    28.4170      0  \n753                     5.0424      0  \n754                     3.7131      0  \n755                     3.1527      0  \n\n[756 rows x 754 columns]",
      "text/html": "<div>\n<style scoped>\n    .dataframe tbody tr th:only-of-type {\n        vertical-align: middle;\n    }\n\n    .dataframe tbody tr th {\n        vertical-align: top;\n    }\n\n    .dataframe thead th {\n        text-align: right;\n    }\n</style>\n<table border=\"1\" class=\"dataframe\">\n  <thead>\n    <tr style=\"text-align: right;\">\n      <th></th>\n      <th>gender</th>\n      <th>PPE</th>\n      <th>DFA</th>\n      <th>RPDE</th>\n      <th>numPulses</th>\n      <th>numPeriodsPulses</th>\n      <th>meanPeriodPulses</th>\n      <th>stdDevPeriodPulses</th>\n      <th>locPctJitter</th>\n      <th>locAbsJitter</th>\n      <th>...</th>\n      <th>tqwt_kurtosisValue_dec_28</th>\n      <th>tqwt_kurtosisValue_dec_29</th>\n      <th>tqwt_kurtosisValue_dec_30</th>\n      <th>tqwt_kurtosisValue_dec_31</th>\n      <th>tqwt_kurtosisValue_dec_32</th>\n      <th>tqwt_kurtosisValue_dec_33</th>\n      <th>tqwt_kurtosisValue_dec_34</th>\n      <th>tqwt_kurtosisValue_dec_35</th>\n      <th>tqwt_kurtosisValue_dec_36</th>\n      <th>class</th>\n    </tr>\n  </thead>\n  <tbody>\n    <tr>\n      <th>0</th>\n      <td>1</td>\n      <td>0.85247</td>\n      <td>0.71826</td>\n      <td>0.57227</td>\n      <td>240</td>\n      <td>239</td>\n      <td>0.008064</td>\n      <td>0.000087</td>\n      <td>0.00218</td>\n      <td>0.000018</td>\n      <td>...</td>\n      <td>1.5620</td>\n      <td>2.6445</td>\n      <td>3.8686</td>\n      <td>4.2105</td>\n      <td>5.1221</td>\n      <td>4.4625</td>\n      <td>2.6202</td>\n      <td>3.0004</td>\n      <td>18.9405</td>\n      <td>1</td>\n    </tr>\n    <tr>\n      <th>1</th>\n      <td>1</td>\n      <td>0.76686</td>\n      <td>0.69481</td>\n      <td>0.53966</td>\n      <td>234</td>\n      <td>233</td>\n      <td>0.008258</td>\n      <td>0.000073</td>\n      <td>0.00195</td>\n      <td>0.000016</td>\n      <td>...</td>\n      <td>1.5589</td>\n      <td>3.6107</td>\n      <td>23.5155</td>\n      <td>14.1962</td>\n      <td>11.0261</td>\n      <td>9.5082</td>\n      <td>6.5245</td>\n      <td>6.3431</td>\n      <td>45.1780</td>\n      <td>1</td>\n    </tr>\n    <tr>\n      <th>2</th>\n      <td>1</td>\n      <td>0.85083</td>\n      <td>0.67604</td>\n      <td>0.58982</td>\n      <td>232</td>\n      <td>231</td>\n      <td>0.008340</td>\n      <td>0.000060</td>\n      <td>0.00176</td>\n      <td>0.000015</td>\n      <td>...</td>\n      <td>1.5643</td>\n      <td>2.3308</td>\n      <td>9.4959</td>\n      <td>10.7458</td>\n      <td>11.0177</td>\n      <td>4.8066</td>\n      <td>2.9199</td>\n      <td>3.1495</td>\n      <td>4.7666</td>\n      <td>1</td>\n    </tr>\n    <tr>\n      <th>3</th>\n      <td>0</td>\n      <td>0.41121</td>\n      <td>0.79672</td>\n      <td>0.59257</td>\n      <td>178</td>\n      <td>177</td>\n      <td>0.010858</td>\n      <td>0.000183</td>\n      <td>0.00419</td>\n      <td>0.000046</td>\n      <td>...</td>\n      <td>3.7805</td>\n      <td>3.5664</td>\n      <td>5.2558</td>\n      <td>14.0403</td>\n      <td>4.2235</td>\n      <td>4.6857</td>\n      <td>4.8460</td>\n      <td>6.2650</td>\n      <td>4.0603</td>\n      <td>1</td>\n    </tr>\n    <tr>\n      <th>4</th>\n      <td>0</td>\n      <td>0.32790</td>\n      <td>0.79782</td>\n      <td>0.53028</td>\n      <td>236</td>\n      <td>235</td>\n      <td>0.008162</td>\n      <td>0.002669</td>\n      <td>0.00535</td>\n      <td>0.000044</td>\n      <td>...</td>\n      <td>6.1727</td>\n      <td>5.8416</td>\n      <td>6.0805</td>\n      <td>5.7621</td>\n      <td>7.7817</td>\n      <td>11.6891</td>\n      <td>8.2103</td>\n      <td>5.0559</td>\n      <td>6.1164</td>\n      <td>1</td>\n    </tr>\n    <tr>\n      <th>...</th>\n      <td>...</td>\n      <td>...</td>\n      <td>...</td>\n      <td>...</td>\n      <td>...</td>\n      <td>...</td>\n      <td>...</td>\n      <td>...</td>\n      <td>...</td>\n      <td>...</td>\n      <td>...</td>\n      <td>...</td>\n      <td>...</td>\n      <td>...</td>\n      <td>...</td>\n      <td>...</td>\n      <td>...</td>\n      <td>...</td>\n      <td>...</td>\n      <td>...</td>\n      <td>...</td>\n    </tr>\n    <tr>\n      <th>751</th>\n      <td>0</td>\n      <td>0.80903</td>\n      <td>0.56355</td>\n      <td>0.28385</td>\n      <td>417</td>\n      <td>416</td>\n      <td>0.004627</td>\n      <td>0.000052</td>\n      <td>0.00064</td>\n      <td>0.000003</td>\n      <td>...</td>\n      <td>3.0706</td>\n      <td>3.0190</td>\n      <td>3.1212</td>\n      <td>2.4921</td>\n      <td>3.5844</td>\n      <td>3.5400</td>\n      <td>3.3805</td>\n      <td>3.2003</td>\n      <td>6.8671</td>\n      <td>0</td>\n    </tr>\n    <tr>\n      <th>752</th>\n      <td>0</td>\n      <td>0.16084</td>\n      <td>0.56499</td>\n      <td>0.59194</td>\n      <td>415</td>\n      <td>413</td>\n      <td>0.004550</td>\n      <td>0.000220</td>\n      <td>0.00143</td>\n      <td>0.000006</td>\n      <td>...</td>\n      <td>1.9704</td>\n      <td>1.7451</td>\n      <td>1.8277</td>\n      <td>2.4976</td>\n      <td>5.2981</td>\n      <td>4.2616</td>\n      <td>6.3042</td>\n      <td>10.9058</td>\n      <td>28.4170</td>\n      <td>0</td>\n    </tr>\n    <tr>\n      <th>753</th>\n      <td>0</td>\n      <td>0.88389</td>\n      <td>0.72335</td>\n      <td>0.46815</td>\n      <td>381</td>\n      <td>380</td>\n      <td>0.005069</td>\n      <td>0.000103</td>\n      <td>0.00076</td>\n      <td>0.000004</td>\n      <td>...</td>\n      <td>51.5607</td>\n      <td>44.4641</td>\n      <td>26.1586</td>\n      <td>6.3076</td>\n      <td>2.8601</td>\n      <td>2.5361</td>\n      <td>3.5377</td>\n      <td>3.3545</td>\n      <td>5.0424</td>\n      <td>0</td>\n    </tr>\n    <tr>\n      <th>754</th>\n      <td>0</td>\n      <td>0.83782</td>\n      <td>0.74890</td>\n      <td>0.49823</td>\n      <td>340</td>\n      <td>339</td>\n      <td>0.005679</td>\n      <td>0.000055</td>\n      <td>0.00092</td>\n      <td>0.000005</td>\n      <td>...</td>\n      <td>19.1607</td>\n      <td>12.8312</td>\n      <td>8.9434</td>\n      <td>2.2044</td>\n      <td>1.9496</td>\n      <td>1.9664</td>\n      <td>2.6801</td>\n      <td>2.8332</td>\n      <td>3.7131</td>\n      <td>0</td>\n    </tr>\n    <tr>\n      <th>755</th>\n      <td>0</td>\n      <td>0.81304</td>\n      <td>0.76471</td>\n      <td>0.46374</td>\n      <td>340</td>\n      <td>339</td>\n      <td>0.005676</td>\n      <td>0.000037</td>\n      <td>0.00078</td>\n      <td>0.000004</td>\n      <td>...</td>\n      <td>62.9927</td>\n      <td>21.8152</td>\n      <td>9.2457</td>\n      <td>4.8555</td>\n      <td>3.0551</td>\n      <td>3.0415</td>\n      <td>4.0116</td>\n      <td>2.6217</td>\n      <td>3.1527</td>\n      <td>0</td>\n    </tr>\n  </tbody>\n</table>\n<p>756 rows × 754 columns</p>\n</div>"
     },
     "execution_count": 126,
     "metadata": {},
     "output_type": "execute_result"
    }
   ],
   "source": [
    "data = pd.read_csv('../data/disease_data.csv')\n",
    "data.drop('id',axis=1,inplace=True)\n",
    "\n",
    "data"
   ],
   "metadata": {
    "collapsed": false,
    "pycharm": {
     "name": "#%%\n"
    }
   }
  },
  {
   "cell_type": "code",
   "execution_count": 127,
   "outputs": [
    {
     "data": {
      "text/plain": "           gender         PPE         DFA        RPDE   numPulses  \\\ncount  756.000000  756.000000  756.000000  756.000000  756.000000   \nmean     0.515873    0.746284    0.700414    0.489058  323.972222   \nstd      0.500079    0.169294    0.069718    0.137442   99.219059   \nmin      0.000000    0.041551    0.543500    0.154300    2.000000   \n25%      0.000000    0.762833    0.647053    0.386537  251.000000   \n50%      1.000000    0.809655    0.700525    0.484355  317.000000   \n75%      1.000000    0.834315    0.754985    0.586515  384.250000   \nmax      1.000000    0.907660    0.852640    0.871230  907.000000   \n\n       numPeriodsPulses  meanPeriodPulses  stdDevPeriodPulses  locPctJitter  \\\ncount        756.000000        756.000000          756.000000    756.000000   \nmean         322.678571          0.006360            0.000383      0.002324   \nstd           99.402499          0.001826            0.000728      0.002628   \nmin            1.000000          0.002107            0.000011      0.000210   \n25%          250.000000          0.005003            0.000049      0.000970   \n50%          316.000000          0.006048            0.000077      0.001495   \n75%          383.250000          0.007528            0.000171      0.002520   \nmax          905.000000          0.012966            0.003483      0.027750   \n\n       locAbsJitter  ...  tqwt_kurtosisValue_dec_28  \\\ncount  7.560000e+02  ...                 756.000000   \nmean   1.673391e-05  ...                  26.237251   \nstd    2.290134e-05  ...                  42.220693   \nmin    6.860000e-07  ...                   1.509800   \n25%    5.260000e-06  ...                   2.408675   \n50%    9.530000e-06  ...                   5.586300   \n75%    1.832500e-05  ...                  28.958075   \nmax    2.564800e-04  ...                 239.788800   \n\n       tqwt_kurtosisValue_dec_29  tqwt_kurtosisValue_dec_30  \\\ncount                 756.000000                 756.000000   \nmean                   22.840337                  18.587888   \nstd                    32.626464                  25.537464   \nmin                     1.531700                   1.582900   \n25%                     3.452800                   3.354825   \n50%                     7.062750                   6.077400   \n75%                    29.830850                  21.944050   \nmax                   203.311300                 121.542900   \n\n       tqwt_kurtosisValue_dec_31  tqwt_kurtosisValue_dec_32  \\\ncount                 756.000000                 756.000000   \nmean                   13.872018                  12.218953   \nstd                    20.046029                  17.783642   \nmin                     1.747200                   1.789500   \n25%                     3.077450                   2.937025   \n50%                     4.770850                   4.300450   \n75%                    13.188000                  10.876150   \nmax                   102.207000                  85.571700   \n\n       tqwt_kurtosisValue_dec_33  tqwt_kurtosisValue_dec_34  \\\ncount                 756.000000                 756.000000   \nmean                   12.375335                  14.799230   \nstd                    16.341665                  15.722502   \nmin                     1.628700                   1.861700   \n25%                     3.114375                   3.665925   \n50%                     4.741450                   6.725700   \n75%                    12.201325                  21.922050   \nmax                    73.532200                  62.007300   \n\n       tqwt_kurtosisValue_dec_35  tqwt_kurtosisValue_dec_36       class  \ncount                 756.000000                 756.000000  756.000000  \nmean                   14.751559                  31.481110    0.746032  \nstd                    14.432979                  34.230991    0.435568  \nmin                     1.955900                   2.364000    0.000000  \n25%                     3.741275                   3.948750    0.000000  \n50%                     7.334250                  10.637250    1.000000  \n75%                    22.495175                  61.125325    1.000000  \nmax                    57.544300                 156.423700    1.000000  \n\n[8 rows x 754 columns]",
      "text/html": "<div>\n<style scoped>\n    .dataframe tbody tr th:only-of-type {\n        vertical-align: middle;\n    }\n\n    .dataframe tbody tr th {\n        vertical-align: top;\n    }\n\n    .dataframe thead th {\n        text-align: right;\n    }\n</style>\n<table border=\"1\" class=\"dataframe\">\n  <thead>\n    <tr style=\"text-align: right;\">\n      <th></th>\n      <th>gender</th>\n      <th>PPE</th>\n      <th>DFA</th>\n      <th>RPDE</th>\n      <th>numPulses</th>\n      <th>numPeriodsPulses</th>\n      <th>meanPeriodPulses</th>\n      <th>stdDevPeriodPulses</th>\n      <th>locPctJitter</th>\n      <th>locAbsJitter</th>\n      <th>...</th>\n      <th>tqwt_kurtosisValue_dec_28</th>\n      <th>tqwt_kurtosisValue_dec_29</th>\n      <th>tqwt_kurtosisValue_dec_30</th>\n      <th>tqwt_kurtosisValue_dec_31</th>\n      <th>tqwt_kurtosisValue_dec_32</th>\n      <th>tqwt_kurtosisValue_dec_33</th>\n      <th>tqwt_kurtosisValue_dec_34</th>\n      <th>tqwt_kurtosisValue_dec_35</th>\n      <th>tqwt_kurtosisValue_dec_36</th>\n      <th>class</th>\n    </tr>\n  </thead>\n  <tbody>\n    <tr>\n      <th>count</th>\n      <td>756.000000</td>\n      <td>756.000000</td>\n      <td>756.000000</td>\n      <td>756.000000</td>\n      <td>756.000000</td>\n      <td>756.000000</td>\n      <td>756.000000</td>\n      <td>756.000000</td>\n      <td>756.000000</td>\n      <td>7.560000e+02</td>\n      <td>...</td>\n      <td>756.000000</td>\n      <td>756.000000</td>\n      <td>756.000000</td>\n      <td>756.000000</td>\n      <td>756.000000</td>\n      <td>756.000000</td>\n      <td>756.000000</td>\n      <td>756.000000</td>\n      <td>756.000000</td>\n      <td>756.000000</td>\n    </tr>\n    <tr>\n      <th>mean</th>\n      <td>0.515873</td>\n      <td>0.746284</td>\n      <td>0.700414</td>\n      <td>0.489058</td>\n      <td>323.972222</td>\n      <td>322.678571</td>\n      <td>0.006360</td>\n      <td>0.000383</td>\n      <td>0.002324</td>\n      <td>1.673391e-05</td>\n      <td>...</td>\n      <td>26.237251</td>\n      <td>22.840337</td>\n      <td>18.587888</td>\n      <td>13.872018</td>\n      <td>12.218953</td>\n      <td>12.375335</td>\n      <td>14.799230</td>\n      <td>14.751559</td>\n      <td>31.481110</td>\n      <td>0.746032</td>\n    </tr>\n    <tr>\n      <th>std</th>\n      <td>0.500079</td>\n      <td>0.169294</td>\n      <td>0.069718</td>\n      <td>0.137442</td>\n      <td>99.219059</td>\n      <td>99.402499</td>\n      <td>0.001826</td>\n      <td>0.000728</td>\n      <td>0.002628</td>\n      <td>2.290134e-05</td>\n      <td>...</td>\n      <td>42.220693</td>\n      <td>32.626464</td>\n      <td>25.537464</td>\n      <td>20.046029</td>\n      <td>17.783642</td>\n      <td>16.341665</td>\n      <td>15.722502</td>\n      <td>14.432979</td>\n      <td>34.230991</td>\n      <td>0.435568</td>\n    </tr>\n    <tr>\n      <th>min</th>\n      <td>0.000000</td>\n      <td>0.041551</td>\n      <td>0.543500</td>\n      <td>0.154300</td>\n      <td>2.000000</td>\n      <td>1.000000</td>\n      <td>0.002107</td>\n      <td>0.000011</td>\n      <td>0.000210</td>\n      <td>6.860000e-07</td>\n      <td>...</td>\n      <td>1.509800</td>\n      <td>1.531700</td>\n      <td>1.582900</td>\n      <td>1.747200</td>\n      <td>1.789500</td>\n      <td>1.628700</td>\n      <td>1.861700</td>\n      <td>1.955900</td>\n      <td>2.364000</td>\n      <td>0.000000</td>\n    </tr>\n    <tr>\n      <th>25%</th>\n      <td>0.000000</td>\n      <td>0.762833</td>\n      <td>0.647053</td>\n      <td>0.386537</td>\n      <td>251.000000</td>\n      <td>250.000000</td>\n      <td>0.005003</td>\n      <td>0.000049</td>\n      <td>0.000970</td>\n      <td>5.260000e-06</td>\n      <td>...</td>\n      <td>2.408675</td>\n      <td>3.452800</td>\n      <td>3.354825</td>\n      <td>3.077450</td>\n      <td>2.937025</td>\n      <td>3.114375</td>\n      <td>3.665925</td>\n      <td>3.741275</td>\n      <td>3.948750</td>\n      <td>0.000000</td>\n    </tr>\n    <tr>\n      <th>50%</th>\n      <td>1.000000</td>\n      <td>0.809655</td>\n      <td>0.700525</td>\n      <td>0.484355</td>\n      <td>317.000000</td>\n      <td>316.000000</td>\n      <td>0.006048</td>\n      <td>0.000077</td>\n      <td>0.001495</td>\n      <td>9.530000e-06</td>\n      <td>...</td>\n      <td>5.586300</td>\n      <td>7.062750</td>\n      <td>6.077400</td>\n      <td>4.770850</td>\n      <td>4.300450</td>\n      <td>4.741450</td>\n      <td>6.725700</td>\n      <td>7.334250</td>\n      <td>10.637250</td>\n      <td>1.000000</td>\n    </tr>\n    <tr>\n      <th>75%</th>\n      <td>1.000000</td>\n      <td>0.834315</td>\n      <td>0.754985</td>\n      <td>0.586515</td>\n      <td>384.250000</td>\n      <td>383.250000</td>\n      <td>0.007528</td>\n      <td>0.000171</td>\n      <td>0.002520</td>\n      <td>1.832500e-05</td>\n      <td>...</td>\n      <td>28.958075</td>\n      <td>29.830850</td>\n      <td>21.944050</td>\n      <td>13.188000</td>\n      <td>10.876150</td>\n      <td>12.201325</td>\n      <td>21.922050</td>\n      <td>22.495175</td>\n      <td>61.125325</td>\n      <td>1.000000</td>\n    </tr>\n    <tr>\n      <th>max</th>\n      <td>1.000000</td>\n      <td>0.907660</td>\n      <td>0.852640</td>\n      <td>0.871230</td>\n      <td>907.000000</td>\n      <td>905.000000</td>\n      <td>0.012966</td>\n      <td>0.003483</td>\n      <td>0.027750</td>\n      <td>2.564800e-04</td>\n      <td>...</td>\n      <td>239.788800</td>\n      <td>203.311300</td>\n      <td>121.542900</td>\n      <td>102.207000</td>\n      <td>85.571700</td>\n      <td>73.532200</td>\n      <td>62.007300</td>\n      <td>57.544300</td>\n      <td>156.423700</td>\n      <td>1.000000</td>\n    </tr>\n  </tbody>\n</table>\n<p>8 rows × 754 columns</p>\n</div>"
     },
     "execution_count": 127,
     "metadata": {},
     "output_type": "execute_result"
    }
   ],
   "source": [
    "data.describe()"
   ],
   "metadata": {
    "collapsed": false,
    "pycharm": {
     "name": "#%%\n"
    }
   }
  },
  {
   "cell_type": "code",
   "execution_count": 128,
   "outputs": [
    {
     "data": {
      "text/plain": "1    564\n0    192\nName: class, dtype: int64"
     },
     "execution_count": 128,
     "metadata": {},
     "output_type": "execute_result"
    }
   ],
   "source": [
    "data['class'].value_counts()"
   ],
   "metadata": {
    "collapsed": false,
    "pycharm": {
     "name": "#%%\n"
    }
   }
  },
  {
   "cell_type": "code",
   "execution_count": 129,
   "outputs": [
    {
     "data": {
      "text/plain": "       gender       PPE       DFA      RPDE  numPulses  numPeriodsPulses  \\\n0    0.968742  0.627644  0.256144  0.605835  -0.846892         -0.842373   \n1    0.968742  0.121620 -0.080433  0.368415  -0.907404         -0.902773   \n2    0.968742  0.617950 -0.349839  0.733609  -0.927575         -0.922907   \n3   -1.032266 -1.980560  1.382279  0.753631  -1.472186         -1.466513   \n4   -1.032266 -2.472989  1.398068  0.300123  -0.887233         -0.882640   \n..        ...       ...       ...       ...        ...               ...   \n751 -1.032266  0.370878 -1.964406 -1.494032   0.938221          0.939445   \n752 -1.032266 -3.460449 -1.943738  0.749044   0.918050          0.909245   \n753 -1.032266  0.813362  0.329201 -0.152220   0.575147          0.577042   \n754 -1.032266  0.541051  0.695920  0.066780   0.161646          0.164304   \n755 -1.032266  0.394581  0.922840 -0.184327   0.161646          0.164304   \n\n     meanPeriodPulses  stdDevPeriodPulses  locPctJitter  locAbsJitter  ...  \\\n0            0.933328           -0.407251     -0.054993      0.037843  ...   \n1            1.040014           -0.426092     -0.142570     -0.027698  ...   \n2            1.084576           -0.443557     -0.214916     -0.088871  ...   \n3            2.464215           -0.275316      0.710353      1.256919  ...   \n4            0.987044            3.143597      1.152045      1.178269  ...   \n..                ...                 ...           ...           ...  ...   \n751         -0.949508           -0.454833     -0.641378     -0.601407  ...   \n752         -0.991826           -0.224083     -0.340570     -0.447165  ...   \n753         -0.707165           -0.385449     -0.595685     -0.562082  ...   \n754         -0.373097           -0.450845     -0.534762     -0.502220  ...   \n755         -0.374874           -0.475599     -0.588070     -0.538924  ...   \n\n     tqwt_kurtosisValue_dec_28  tqwt_kurtosisValue_dec_29  \\\n0                    -0.584822                  -0.619412   \n1                    -0.584895                  -0.589778   \n2                    -0.584767                  -0.629033   \n3                    -0.532242                  -0.591137   \n4                    -0.475545                  -0.521356   \n..                         ...                        ...   \n751                  -0.549067                  -0.607926   \n752                  -0.575143                  -0.646996   \n753                   0.600185                   0.663206   \n754                  -0.167720                  -0.306983   \n755                   0.871132                  -0.031441   \n\n     tqwt_kurtosisValue_dec_30  tqwt_kurtosisValue_dec_31  \\\n0                    -0.576762                  -0.482286   \n1                     0.193084                   0.016183   \n2                    -0.356261                  -0.156055   \n3                    -0.522406                   0.008400   \n4                    -0.490090                  -0.404833   \n..                         ...                        ...   \n751                  -0.606048                  -0.568065   \n752                  -0.656733                  -0.567791   \n753                   0.296651                  -0.377602   \n754                  -0.377910                  -0.582427   \n755                  -0.366065                  -0.450088   \n\n     tqwt_kurtosisValue_dec_32  tqwt_kurtosisValue_dec_33  \\\n0                    -0.399331                  -0.484533   \n1                    -0.067120                  -0.175566   \n2                    -0.067593                  -0.463462   \n3                    -0.449894                  -0.470865   \n4                    -0.249678                  -0.042021   \n..                         ...                        ...   \n751                  -0.485855                  -0.541021   \n752                  -0.389427                  -0.496835   \n753                  -0.526610                  -0.602494   \n754                  -0.577843                  -0.637378   \n755                  -0.515638                  -0.571546   \n\n     tqwt_kurtosisValue_dec_34  tqwt_kurtosisValue_dec_35  \\\n0                    -0.775137                  -0.814727   \n1                    -0.526647                  -0.582972   \n2                    -0.756063                  -0.804390   \n3                    -0.633475                  -0.588387   \n4                    -0.419354                  -0.672216   \n..                         ...                        ...   \n751                  -0.726748                  -0.800868   \n752                  -0.540668                  -0.266633   \n753                  -0.716743                  -0.790177   \n754                  -0.771325                  -0.826319   \n755                  -0.686581                  -0.840983   \n\n     tqwt_kurtosisValue_dec_36     class  \n0                    -0.366595  0.583460  \n1                     0.400396  0.583460  \n2                    -0.780935  0.583460  \n3                    -0.801583  0.583460  \n4                    -0.741477  0.583460  \n..                         ...       ...  \n751                  -0.719532 -1.713914  \n752                  -0.089572 -1.713914  \n753                  -0.772873 -1.713914  \n754                  -0.811732 -1.713914  \n755                  -0.828114 -1.713914  \n\n[756 rows x 754 columns]",
      "text/html": "<div>\n<style scoped>\n    .dataframe tbody tr th:only-of-type {\n        vertical-align: middle;\n    }\n\n    .dataframe tbody tr th {\n        vertical-align: top;\n    }\n\n    .dataframe thead th {\n        text-align: right;\n    }\n</style>\n<table border=\"1\" class=\"dataframe\">\n  <thead>\n    <tr style=\"text-align: right;\">\n      <th></th>\n      <th>gender</th>\n      <th>PPE</th>\n      <th>DFA</th>\n      <th>RPDE</th>\n      <th>numPulses</th>\n      <th>numPeriodsPulses</th>\n      <th>meanPeriodPulses</th>\n      <th>stdDevPeriodPulses</th>\n      <th>locPctJitter</th>\n      <th>locAbsJitter</th>\n      <th>...</th>\n      <th>tqwt_kurtosisValue_dec_28</th>\n      <th>tqwt_kurtosisValue_dec_29</th>\n      <th>tqwt_kurtosisValue_dec_30</th>\n      <th>tqwt_kurtosisValue_dec_31</th>\n      <th>tqwt_kurtosisValue_dec_32</th>\n      <th>tqwt_kurtosisValue_dec_33</th>\n      <th>tqwt_kurtosisValue_dec_34</th>\n      <th>tqwt_kurtosisValue_dec_35</th>\n      <th>tqwt_kurtosisValue_dec_36</th>\n      <th>class</th>\n    </tr>\n  </thead>\n  <tbody>\n    <tr>\n      <th>0</th>\n      <td>0.968742</td>\n      <td>0.627644</td>\n      <td>0.256144</td>\n      <td>0.605835</td>\n      <td>-0.846892</td>\n      <td>-0.842373</td>\n      <td>0.933328</td>\n      <td>-0.407251</td>\n      <td>-0.054993</td>\n      <td>0.037843</td>\n      <td>...</td>\n      <td>-0.584822</td>\n      <td>-0.619412</td>\n      <td>-0.576762</td>\n      <td>-0.482286</td>\n      <td>-0.399331</td>\n      <td>-0.484533</td>\n      <td>-0.775137</td>\n      <td>-0.814727</td>\n      <td>-0.366595</td>\n      <td>0.583460</td>\n    </tr>\n    <tr>\n      <th>1</th>\n      <td>0.968742</td>\n      <td>0.121620</td>\n      <td>-0.080433</td>\n      <td>0.368415</td>\n      <td>-0.907404</td>\n      <td>-0.902773</td>\n      <td>1.040014</td>\n      <td>-0.426092</td>\n      <td>-0.142570</td>\n      <td>-0.027698</td>\n      <td>...</td>\n      <td>-0.584895</td>\n      <td>-0.589778</td>\n      <td>0.193084</td>\n      <td>0.016183</td>\n      <td>-0.067120</td>\n      <td>-0.175566</td>\n      <td>-0.526647</td>\n      <td>-0.582972</td>\n      <td>0.400396</td>\n      <td>0.583460</td>\n    </tr>\n    <tr>\n      <th>2</th>\n      <td>0.968742</td>\n      <td>0.617950</td>\n      <td>-0.349839</td>\n      <td>0.733609</td>\n      <td>-0.927575</td>\n      <td>-0.922907</td>\n      <td>1.084576</td>\n      <td>-0.443557</td>\n      <td>-0.214916</td>\n      <td>-0.088871</td>\n      <td>...</td>\n      <td>-0.584767</td>\n      <td>-0.629033</td>\n      <td>-0.356261</td>\n      <td>-0.156055</td>\n      <td>-0.067593</td>\n      <td>-0.463462</td>\n      <td>-0.756063</td>\n      <td>-0.804390</td>\n      <td>-0.780935</td>\n      <td>0.583460</td>\n    </tr>\n    <tr>\n      <th>3</th>\n      <td>-1.032266</td>\n      <td>-1.980560</td>\n      <td>1.382279</td>\n      <td>0.753631</td>\n      <td>-1.472186</td>\n      <td>-1.466513</td>\n      <td>2.464215</td>\n      <td>-0.275316</td>\n      <td>0.710353</td>\n      <td>1.256919</td>\n      <td>...</td>\n      <td>-0.532242</td>\n      <td>-0.591137</td>\n      <td>-0.522406</td>\n      <td>0.008400</td>\n      <td>-0.449894</td>\n      <td>-0.470865</td>\n      <td>-0.633475</td>\n      <td>-0.588387</td>\n      <td>-0.801583</td>\n      <td>0.583460</td>\n    </tr>\n    <tr>\n      <th>4</th>\n      <td>-1.032266</td>\n      <td>-2.472989</td>\n      <td>1.398068</td>\n      <td>0.300123</td>\n      <td>-0.887233</td>\n      <td>-0.882640</td>\n      <td>0.987044</td>\n      <td>3.143597</td>\n      <td>1.152045</td>\n      <td>1.178269</td>\n      <td>...</td>\n      <td>-0.475545</td>\n      <td>-0.521356</td>\n      <td>-0.490090</td>\n      <td>-0.404833</td>\n      <td>-0.249678</td>\n      <td>-0.042021</td>\n      <td>-0.419354</td>\n      <td>-0.672216</td>\n      <td>-0.741477</td>\n      <td>0.583460</td>\n    </tr>\n    <tr>\n      <th>...</th>\n      <td>...</td>\n      <td>...</td>\n      <td>...</td>\n      <td>...</td>\n      <td>...</td>\n      <td>...</td>\n      <td>...</td>\n      <td>...</td>\n      <td>...</td>\n      <td>...</td>\n      <td>...</td>\n      <td>...</td>\n      <td>...</td>\n      <td>...</td>\n      <td>...</td>\n      <td>...</td>\n      <td>...</td>\n      <td>...</td>\n      <td>...</td>\n      <td>...</td>\n      <td>...</td>\n    </tr>\n    <tr>\n      <th>751</th>\n      <td>-1.032266</td>\n      <td>0.370878</td>\n      <td>-1.964406</td>\n      <td>-1.494032</td>\n      <td>0.938221</td>\n      <td>0.939445</td>\n      <td>-0.949508</td>\n      <td>-0.454833</td>\n      <td>-0.641378</td>\n      <td>-0.601407</td>\n      <td>...</td>\n      <td>-0.549067</td>\n      <td>-0.607926</td>\n      <td>-0.606048</td>\n      <td>-0.568065</td>\n      <td>-0.485855</td>\n      <td>-0.541021</td>\n      <td>-0.726748</td>\n      <td>-0.800868</td>\n      <td>-0.719532</td>\n      <td>-1.713914</td>\n    </tr>\n    <tr>\n      <th>752</th>\n      <td>-1.032266</td>\n      <td>-3.460449</td>\n      <td>-1.943738</td>\n      <td>0.749044</td>\n      <td>0.918050</td>\n      <td>0.909245</td>\n      <td>-0.991826</td>\n      <td>-0.224083</td>\n      <td>-0.340570</td>\n      <td>-0.447165</td>\n      <td>...</td>\n      <td>-0.575143</td>\n      <td>-0.646996</td>\n      <td>-0.656733</td>\n      <td>-0.567791</td>\n      <td>-0.389427</td>\n      <td>-0.496835</td>\n      <td>-0.540668</td>\n      <td>-0.266633</td>\n      <td>-0.089572</td>\n      <td>-1.713914</td>\n    </tr>\n    <tr>\n      <th>753</th>\n      <td>-1.032266</td>\n      <td>0.813362</td>\n      <td>0.329201</td>\n      <td>-0.152220</td>\n      <td>0.575147</td>\n      <td>0.577042</td>\n      <td>-0.707165</td>\n      <td>-0.385449</td>\n      <td>-0.595685</td>\n      <td>-0.562082</td>\n      <td>...</td>\n      <td>0.600185</td>\n      <td>0.663206</td>\n      <td>0.296651</td>\n      <td>-0.377602</td>\n      <td>-0.526610</td>\n      <td>-0.602494</td>\n      <td>-0.716743</td>\n      <td>-0.790177</td>\n      <td>-0.772873</td>\n      <td>-1.713914</td>\n    </tr>\n    <tr>\n      <th>754</th>\n      <td>-1.032266</td>\n      <td>0.541051</td>\n      <td>0.695920</td>\n      <td>0.066780</td>\n      <td>0.161646</td>\n      <td>0.164304</td>\n      <td>-0.373097</td>\n      <td>-0.450845</td>\n      <td>-0.534762</td>\n      <td>-0.502220</td>\n      <td>...</td>\n      <td>-0.167720</td>\n      <td>-0.306983</td>\n      <td>-0.377910</td>\n      <td>-0.582427</td>\n      <td>-0.577843</td>\n      <td>-0.637378</td>\n      <td>-0.771325</td>\n      <td>-0.826319</td>\n      <td>-0.811732</td>\n      <td>-1.713914</td>\n    </tr>\n    <tr>\n      <th>755</th>\n      <td>-1.032266</td>\n      <td>0.394581</td>\n      <td>0.922840</td>\n      <td>-0.184327</td>\n      <td>0.161646</td>\n      <td>0.164304</td>\n      <td>-0.374874</td>\n      <td>-0.475599</td>\n      <td>-0.588070</td>\n      <td>-0.538924</td>\n      <td>...</td>\n      <td>0.871132</td>\n      <td>-0.031441</td>\n      <td>-0.366065</td>\n      <td>-0.450088</td>\n      <td>-0.515638</td>\n      <td>-0.571546</td>\n      <td>-0.686581</td>\n      <td>-0.840983</td>\n      <td>-0.828114</td>\n      <td>-1.713914</td>\n    </tr>\n  </tbody>\n</table>\n<p>756 rows × 754 columns</p>\n</div>"
     },
     "execution_count": 129,
     "metadata": {},
     "output_type": "execute_result"
    }
   ],
   "source": [
    "from sklearn.preprocessing import StandardScaler\n",
    "scaler = StandardScaler()\n",
    "transformed_data = pd.DataFrame(scaler.fit_transform(data.values), columns=data.columns)\n",
    "transformed_data"
   ],
   "metadata": {
    "collapsed": false,
    "pycharm": {
     "name": "#%%\n"
    }
   }
  },
  {
   "cell_type": "code",
   "execution_count": 130,
   "outputs": [
    {
     "data": {
      "text/plain": "             gender           PPE           DFA          RPDE     numPulses  \\\ncount  7.560000e+02  7.560000e+02  7.560000e+02  7.560000e+02  7.560000e+02   \nmean  -1.973730e-16  9.116752e-16 -1.405108e-15 -2.819614e-17 -6.579099e-17   \nstd    1.000662e+00  1.000662e+00  1.000662e+00  1.000662e+00  1.000662e+00   \nmin   -1.032266e+00 -4.165544e+00 -2.252183e+00 -2.437232e+00 -3.247213e+00   \n25%   -1.032266e+00  9.781373e-02 -7.658960e-01 -7.464066e-01 -7.359527e-01   \n50%    9.687422e-01  3.745726e-01  1.594017e-03 -3.423773e-02 -7.031752e-02   \n75%    9.687422e-01  5.203332e-01  7.832576e-01  7.095471e-01  6.079244e-01   \nmax    9.687422e-01  9.538615e-01  2.184898e+00  2.782440e+00  5.880057e+00   \n\n       numPeriodsPulses  meanPeriodPulses  stdDevPeriodPulses  locPctJitter  \\\ncount      7.560000e+02      7.560000e+02        7.560000e+02  7.560000e+02   \nmean      -1.691768e-16     -1.221833e-16        3.759485e-17  1.879743e-17   \nstd        1.000662e+00      1.000662e+00        1.000662e+00  1.000662e+00   \nmin       -3.238264e+00     -2.330084e+00       -5.120415e-01 -8.051086e-01   \n25%       -7.316384e-01     -7.435536e-01       -4.590963e-01 -5.157239e-01   \n50%       -6.723164e-02     -1.707463e-01       -4.212784e-01 -3.158201e-01   \n75%        6.097586e-01      6.398213e-01       -2.908962e-01  7.446836e-02   \nmax        5.862096e+00      3.619059e+00        4.262559e+00  9.681276e+00   \n\n       locAbsJitter  ...  tqwt_kurtosisValue_dec_28  \\\ncount  7.560000e+02  ...               7.560000e+02   \nmean  -1.127846e-16  ...              -9.398713e-18   \nstd    1.000662e+00  ...               1.000662e+00   \nmin   -7.012049e-01  ...              -5.860591e-01   \n25%   -5.013465e-01  ...              -5.647551e-01   \n50%   -3.147711e-01  ...              -4.894430e-01   \n75%    6.952177e-02  ...               6.448557e-02   \nmax    1.047558e+01  ...               5.061332e+00   \n\n       tqwt_kurtosisValue_dec_29  tqwt_kurtosisValue_dec_30  \\\ncount               7.560000e+02               7.560000e+02   \nmean               -5.169292e-17               6.814067e-17   \nstd                 1.000662e+00               1.000662e+00   \nmin                -6.535414e-01              -6.663248e-01   \n25%                -5.946207e-01              -5.968935e-01   \n50%                -4.839026e-01              -4.902119e-01   \n75%                 2.144008e-01               1.315081e-01   \nmax                 5.535091e+00               4.034197e+00   \n\n       tqwt_kurtosisValue_dec_31  tqwt_kurtosisValue_dec_32  \\\ncount               7.560000e+02               7.560000e+02   \nmean                4.699357e-17              -1.409807e-17   \nstd                 1.000662e+00               1.000662e+00   \nmin                -6.052493e-01              -5.868515e-01   \n25%                -5.388456e-01              -5.222818e-01   \n50%                -4.543141e-01              -4.455637e-01   \n75%                -3.414494e-02              -7.555774e-02   \nmax                 4.409525e+00               4.127462e+00   \n\n       tqwt_kurtosisValue_dec_33  tqwt_kurtosisValue_dec_34  \\\ncount               7.560000e+02               7.560000e+02   \nmean               -8.223874e-17               1.879743e-17   \nstd                 1.000662e+00               1.000662e+00   \nmin                -6.580571e-01              -8.234119e-01   \n25%                -5.670836e-01              -7.085816e-01   \n50%                -4.674517e-01              -5.138416e-01   \n75%                -1.065527e-02               4.533334e-01   \nmax                 3.744866e+00               3.004568e+00   \n\n       tqwt_kurtosisValue_dec_35  tqwt_kurtosisValue_dec_36         class  \ncount               7.560000e+02               7.560000e+02  7.560000e+02  \nmean               -4.699357e-17              -7.988906e-17 -5.639228e-17  \nstd                 1.000662e+00               1.000662e+00  1.000662e+00  \nmin                -8.871439e-01              -8.511698e-01 -1.713914e+00  \n25%                -7.633610e-01              -8.048434e-01 -1.713914e+00  \n50%                -5.142541e-01              -6.093209e-01  5.834600e-01  \n75%                 5.368776e-01               8.665785e-01  5.834600e-01  \nmax                 2.966891e+00               3.652401e+00  5.834600e-01  \n\n[8 rows x 754 columns]",
      "text/html": "<div>\n<style scoped>\n    .dataframe tbody tr th:only-of-type {\n        vertical-align: middle;\n    }\n\n    .dataframe tbody tr th {\n        vertical-align: top;\n    }\n\n    .dataframe thead th {\n        text-align: right;\n    }\n</style>\n<table border=\"1\" class=\"dataframe\">\n  <thead>\n    <tr style=\"text-align: right;\">\n      <th></th>\n      <th>gender</th>\n      <th>PPE</th>\n      <th>DFA</th>\n      <th>RPDE</th>\n      <th>numPulses</th>\n      <th>numPeriodsPulses</th>\n      <th>meanPeriodPulses</th>\n      <th>stdDevPeriodPulses</th>\n      <th>locPctJitter</th>\n      <th>locAbsJitter</th>\n      <th>...</th>\n      <th>tqwt_kurtosisValue_dec_28</th>\n      <th>tqwt_kurtosisValue_dec_29</th>\n      <th>tqwt_kurtosisValue_dec_30</th>\n      <th>tqwt_kurtosisValue_dec_31</th>\n      <th>tqwt_kurtosisValue_dec_32</th>\n      <th>tqwt_kurtosisValue_dec_33</th>\n      <th>tqwt_kurtosisValue_dec_34</th>\n      <th>tqwt_kurtosisValue_dec_35</th>\n      <th>tqwt_kurtosisValue_dec_36</th>\n      <th>class</th>\n    </tr>\n  </thead>\n  <tbody>\n    <tr>\n      <th>count</th>\n      <td>7.560000e+02</td>\n      <td>7.560000e+02</td>\n      <td>7.560000e+02</td>\n      <td>7.560000e+02</td>\n      <td>7.560000e+02</td>\n      <td>7.560000e+02</td>\n      <td>7.560000e+02</td>\n      <td>7.560000e+02</td>\n      <td>7.560000e+02</td>\n      <td>7.560000e+02</td>\n      <td>...</td>\n      <td>7.560000e+02</td>\n      <td>7.560000e+02</td>\n      <td>7.560000e+02</td>\n      <td>7.560000e+02</td>\n      <td>7.560000e+02</td>\n      <td>7.560000e+02</td>\n      <td>7.560000e+02</td>\n      <td>7.560000e+02</td>\n      <td>7.560000e+02</td>\n      <td>7.560000e+02</td>\n    </tr>\n    <tr>\n      <th>mean</th>\n      <td>-1.973730e-16</td>\n      <td>9.116752e-16</td>\n      <td>-1.405108e-15</td>\n      <td>-2.819614e-17</td>\n      <td>-6.579099e-17</td>\n      <td>-1.691768e-16</td>\n      <td>-1.221833e-16</td>\n      <td>3.759485e-17</td>\n      <td>1.879743e-17</td>\n      <td>-1.127846e-16</td>\n      <td>...</td>\n      <td>-9.398713e-18</td>\n      <td>-5.169292e-17</td>\n      <td>6.814067e-17</td>\n      <td>4.699357e-17</td>\n      <td>-1.409807e-17</td>\n      <td>-8.223874e-17</td>\n      <td>1.879743e-17</td>\n      <td>-4.699357e-17</td>\n      <td>-7.988906e-17</td>\n      <td>-5.639228e-17</td>\n    </tr>\n    <tr>\n      <th>std</th>\n      <td>1.000662e+00</td>\n      <td>1.000662e+00</td>\n      <td>1.000662e+00</td>\n      <td>1.000662e+00</td>\n      <td>1.000662e+00</td>\n      <td>1.000662e+00</td>\n      <td>1.000662e+00</td>\n      <td>1.000662e+00</td>\n      <td>1.000662e+00</td>\n      <td>1.000662e+00</td>\n      <td>...</td>\n      <td>1.000662e+00</td>\n      <td>1.000662e+00</td>\n      <td>1.000662e+00</td>\n      <td>1.000662e+00</td>\n      <td>1.000662e+00</td>\n      <td>1.000662e+00</td>\n      <td>1.000662e+00</td>\n      <td>1.000662e+00</td>\n      <td>1.000662e+00</td>\n      <td>1.000662e+00</td>\n    </tr>\n    <tr>\n      <th>min</th>\n      <td>-1.032266e+00</td>\n      <td>-4.165544e+00</td>\n      <td>-2.252183e+00</td>\n      <td>-2.437232e+00</td>\n      <td>-3.247213e+00</td>\n      <td>-3.238264e+00</td>\n      <td>-2.330084e+00</td>\n      <td>-5.120415e-01</td>\n      <td>-8.051086e-01</td>\n      <td>-7.012049e-01</td>\n      <td>...</td>\n      <td>-5.860591e-01</td>\n      <td>-6.535414e-01</td>\n      <td>-6.663248e-01</td>\n      <td>-6.052493e-01</td>\n      <td>-5.868515e-01</td>\n      <td>-6.580571e-01</td>\n      <td>-8.234119e-01</td>\n      <td>-8.871439e-01</td>\n      <td>-8.511698e-01</td>\n      <td>-1.713914e+00</td>\n    </tr>\n    <tr>\n      <th>25%</th>\n      <td>-1.032266e+00</td>\n      <td>9.781373e-02</td>\n      <td>-7.658960e-01</td>\n      <td>-7.464066e-01</td>\n      <td>-7.359527e-01</td>\n      <td>-7.316384e-01</td>\n      <td>-7.435536e-01</td>\n      <td>-4.590963e-01</td>\n      <td>-5.157239e-01</td>\n      <td>-5.013465e-01</td>\n      <td>...</td>\n      <td>-5.647551e-01</td>\n      <td>-5.946207e-01</td>\n      <td>-5.968935e-01</td>\n      <td>-5.388456e-01</td>\n      <td>-5.222818e-01</td>\n      <td>-5.670836e-01</td>\n      <td>-7.085816e-01</td>\n      <td>-7.633610e-01</td>\n      <td>-8.048434e-01</td>\n      <td>-1.713914e+00</td>\n    </tr>\n    <tr>\n      <th>50%</th>\n      <td>9.687422e-01</td>\n      <td>3.745726e-01</td>\n      <td>1.594017e-03</td>\n      <td>-3.423773e-02</td>\n      <td>-7.031752e-02</td>\n      <td>-6.723164e-02</td>\n      <td>-1.707463e-01</td>\n      <td>-4.212784e-01</td>\n      <td>-3.158201e-01</td>\n      <td>-3.147711e-01</td>\n      <td>...</td>\n      <td>-4.894430e-01</td>\n      <td>-4.839026e-01</td>\n      <td>-4.902119e-01</td>\n      <td>-4.543141e-01</td>\n      <td>-4.455637e-01</td>\n      <td>-4.674517e-01</td>\n      <td>-5.138416e-01</td>\n      <td>-5.142541e-01</td>\n      <td>-6.093209e-01</td>\n      <td>5.834600e-01</td>\n    </tr>\n    <tr>\n      <th>75%</th>\n      <td>9.687422e-01</td>\n      <td>5.203332e-01</td>\n      <td>7.832576e-01</td>\n      <td>7.095471e-01</td>\n      <td>6.079244e-01</td>\n      <td>6.097586e-01</td>\n      <td>6.398213e-01</td>\n      <td>-2.908962e-01</td>\n      <td>7.446836e-02</td>\n      <td>6.952177e-02</td>\n      <td>...</td>\n      <td>6.448557e-02</td>\n      <td>2.144008e-01</td>\n      <td>1.315081e-01</td>\n      <td>-3.414494e-02</td>\n      <td>-7.555774e-02</td>\n      <td>-1.065527e-02</td>\n      <td>4.533334e-01</td>\n      <td>5.368776e-01</td>\n      <td>8.665785e-01</td>\n      <td>5.834600e-01</td>\n    </tr>\n    <tr>\n      <th>max</th>\n      <td>9.687422e-01</td>\n      <td>9.538615e-01</td>\n      <td>2.184898e+00</td>\n      <td>2.782440e+00</td>\n      <td>5.880057e+00</td>\n      <td>5.862096e+00</td>\n      <td>3.619059e+00</td>\n      <td>4.262559e+00</td>\n      <td>9.681276e+00</td>\n      <td>1.047558e+01</td>\n      <td>...</td>\n      <td>5.061332e+00</td>\n      <td>5.535091e+00</td>\n      <td>4.034197e+00</td>\n      <td>4.409525e+00</td>\n      <td>4.127462e+00</td>\n      <td>3.744866e+00</td>\n      <td>3.004568e+00</td>\n      <td>2.966891e+00</td>\n      <td>3.652401e+00</td>\n      <td>5.834600e-01</td>\n    </tr>\n  </tbody>\n</table>\n<p>8 rows × 754 columns</p>\n</div>"
     },
     "execution_count": 130,
     "metadata": {},
     "output_type": "execute_result"
    }
   ],
   "source": [
    "transformed_data.describe()"
   ],
   "metadata": {
    "collapsed": false,
    "pycharm": {
     "name": "#%%\n"
    }
   }
  },
  {
   "cell_type": "code",
   "execution_count": 131,
   "outputs": [
    {
     "data": {
      "text/plain": "class\n1        564\n0        192\ndtype: int64"
     },
     "execution_count": 131,
     "metadata": {},
     "output_type": "execute_result"
    }
   ],
   "source": [
    "features = data.drop('class',axis=1)\n",
    "target = data[['class']]\n",
    "target.value_counts()"
   ],
   "metadata": {
    "collapsed": false,
    "pycharm": {
     "name": "#%%\n"
    }
   }
  },
  {
   "cell_type": "code",
   "execution_count": 132,
   "outputs": [
    {
     "data": {
      "text/plain": "class\n0        564\n1        564\ndtype: int64"
     },
     "execution_count": 132,
     "metadata": {},
     "output_type": "execute_result"
    }
   ],
   "source": [
    "sampler = SMOTE()\n",
    "resampled_features, resampled_targets = sampler.fit_resample(features,target)\n",
    "resampled_targets.value_counts()"
   ],
   "metadata": {
    "collapsed": false,
    "pycharm": {
     "name": "#%%\n"
    }
   }
  },
  {
   "cell_type": "code",
   "execution_count": 133,
   "outputs": [
    {
     "data": {
      "text/plain": "(902, 753)"
     },
     "execution_count": 133,
     "metadata": {},
     "output_type": "execute_result"
    }
   ],
   "source": [
    "from sklearn.model_selection import train_test_split\n",
    "\n",
    "x_train , x_test, y_train, y_test = train_test_split(resampled_features, resampled_targets, test_size=.2, random_state=0)\n",
    "x_train.shape"
   ],
   "metadata": {
    "collapsed": false,
    "pycharm": {
     "name": "#%%\n"
    }
   }
  },
  {
   "cell_type": "code",
   "execution_count": 137,
   "outputs": [],
   "source": [
    "from sklearn.ensemble import RandomForestClassifier, AdaBoostClassifier\n",
    "from xgboost import XGBClassifier"
   ],
   "metadata": {
    "collapsed": false,
    "pycharm": {
     "name": "#%%\n"
    }
   }
  },
  {
   "cell_type": "code",
   "execution_count": 135,
   "outputs": [
    {
     "name": "stdout",
     "output_type": "stream",
     "text": [
      "training_score: 1.0, test_score:0.9336283185840708\n"
     ]
    }
   ],
   "source": [
    "adaboost = AdaBoostClassifier(n_estimators=500, learning_rate=0.1)\n",
    "adaboost.fit(x_train, y_train)\n",
    "print(f\"training_score: {adaboost.score(x_train, y_train)}, test_score:{adaboost.score(x_test, y_test)}\")"
   ],
   "metadata": {
    "collapsed": false,
    "pycharm": {
     "name": "#%%\n"
    }
   }
  },
  {
   "cell_type": "code",
   "execution_count": 136,
   "outputs": [
    {
     "name": "stdout",
     "output_type": "stream",
     "text": [
      "training_score: 1.0, test_score:0.9247787610619469\n"
     ]
    },
    {
     "name": "stderr",
     "output_type": "stream",
     "text": [
      "[Parallel(n_jobs=1)]: Using backend SequentialBackend with 1 concurrent workers.\n",
      "[Parallel(n_jobs=1)]: Done  20 out of  20 | elapsed:    0.1s finished\n",
      "[Parallel(n_jobs=1)]: Using backend SequentialBackend with 1 concurrent workers.\n",
      "[Parallel(n_jobs=1)]: Done  20 out of  20 | elapsed:    0.0s finished\n",
      "[Parallel(n_jobs=1)]: Using backend SequentialBackend with 1 concurrent workers.\n",
      "[Parallel(n_jobs=1)]: Done  20 out of  20 | elapsed:    0.0s finished\n"
     ]
    }
   ],
   "source": [
    "random = RandomForestClassifier(verbose=True,n_estimators=20)\n",
    "random.fit(x_train, y_train)\n",
    "print(f\"training_score: {random.score(x_train, y_train)}, test_score:{random.score(x_test, y_test)}\")"
   ],
   "metadata": {
    "collapsed": false,
    "pycharm": {
     "name": "#%%\n"
    }
   }
  },
  {
   "cell_type": "code",
   "execution_count": 138,
   "outputs": [
    {
     "name": "stdout",
     "output_type": "stream",
     "text": [
      "training_score: 1.0, test_score:0.9424778761061947\n"
     ]
    }
   ],
   "source": [
    "xgboost = XGBClassifier()\n",
    "xgboost.fit(x_train, y_train)\n",
    "print(f\"training_score: {xgboost.score(x_train, y_train)}, test_score:{xgboost.score(x_test, y_test)}\")"
   ],
   "metadata": {
    "collapsed": false,
    "pycharm": {
     "name": "#%%\n"
    }
   }
  },
  {
   "cell_type": "code",
   "execution_count": null,
   "outputs": [],
   "source": [],
   "metadata": {
    "collapsed": false,
    "pycharm": {
     "name": "#%%\n"
    }
   }
  }
 ],
 "metadata": {
  "kernelspec": {
   "display_name": "Python 3",
   "language": "python",
   "name": "python3"
  },
  "language_info": {
   "codemirror_mode": {
    "name": "ipython",
    "version": 2
   },
   "file_extension": ".py",
   "mimetype": "text/x-python",
   "name": "python",
   "nbconvert_exporter": "python",
   "pygments_lexer": "ipython2",
   "version": "2.7.6"
  }
 },
 "nbformat": 4,
 "nbformat_minor": 0
}